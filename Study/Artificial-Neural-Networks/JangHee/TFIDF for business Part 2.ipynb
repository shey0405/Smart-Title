{
 "cells": [
  {
   "cell_type": "markdown",
   "metadata": {},
   "source": [
    "# Pre-processing"
   ]
  },
  {
   "cell_type": "code",
   "execution_count": 1,
   "metadata": {
    "collapsed": true
   },
   "outputs": [],
   "source": [
    "categories = ['alt.atheism', 'soc.religion.christian', 'comp.graphics', 'sci.med']"
   ]
  },
  {
   "cell_type": "code",
   "execution_count": 2,
   "metadata": {
    "collapsed": true
   },
   "outputs": [],
   "source": [
    "from sklearn.datasets import fetch_20newsgroups\n",
    "twenty_train = fetch_20newsgroups(subset='train',categories=categories, shuffle=True, random_state=42)"
   ]
  },
  {
   "cell_type": "code",
   "execution_count": 3,
   "metadata": {},
   "outputs": [
    {
     "data": {
      "text/plain": [
       "array([1, 1, 3, ..., 2, 2, 2], dtype=int64)"
      ]
     },
     "execution_count": 3,
     "metadata": {},
     "output_type": "execute_result"
    }
   ],
   "source": [
    "twenty_train.target_names\n",
    "twenty_train.data[0]\n",
    "#As you can see, the example trains the model with the target simultaneously\n",
    "twenty_train.target"
   ]
  },
  {
   "cell_type": "code",
   "execution_count": 4,
   "metadata": {},
   "outputs": [
    {
     "data": {
      "text/plain": [
       "2257"
      ]
     },
     "execution_count": 4,
     "metadata": {},
     "output_type": "execute_result"
    }
   ],
   "source": [
    "len(twenty_train.data)"
   ]
  },
  {
   "cell_type": "code",
   "execution_count": 5,
   "metadata": {},
   "outputs": [
    {
     "data": {
      "text/plain": [
       "2257"
      ]
     },
     "execution_count": 5,
     "metadata": {},
     "output_type": "execute_result"
    }
   ],
   "source": [
    "len(twenty_train.filenames)"
   ]
  },
  {
   "cell_type": "code",
   "execution_count": 6,
   "metadata": {},
   "outputs": [
    {
     "name": "stdout",
     "output_type": "stream",
     "text": [
      "From: sd345@city.ac.uk (Michael Collier)\n",
      "Subject: Converting images to HP LaserJet III?\n",
      "Nntp-Posting-Host: hampton\n"
     ]
    }
   ],
   "source": [
    "print(\"\\n\".join(twenty_train.data[0].split(\"\\n\")[:3]))"
   ]
  },
  {
   "cell_type": "code",
   "execution_count": 7,
   "metadata": {},
   "outputs": [
    {
     "name": "stdout",
     "output_type": "stream",
     "text": [
      "comp.graphics\n"
     ]
    }
   ],
   "source": [
    "print(twenty_train.target_names[twenty_train.target[0]])"
   ]
  },
  {
   "cell_type": "code",
   "execution_count": 8,
   "metadata": {},
   "outputs": [
    {
     "data": {
      "text/plain": [
       "array([1, 1, 3, 3, 3, 3, 3, 2, 2, 2], dtype=int64)"
      ]
     },
     "execution_count": 8,
     "metadata": {},
     "output_type": "execute_result"
    }
   ],
   "source": [
    "twenty_train.target[:10]"
   ]
  },
  {
   "cell_type": "code",
   "execution_count": 9,
   "metadata": {},
   "outputs": [
    {
     "name": "stdout",
     "output_type": "stream",
     "text": [
      "comp.graphics\n",
      "comp.graphics\n",
      "soc.religion.christian\n",
      "soc.religion.christian\n",
      "soc.religion.christian\n",
      "soc.religion.christian\n",
      "soc.religion.christian\n",
      "sci.med\n",
      "sci.med\n",
      "sci.med\n"
     ]
    }
   ],
   "source": [
    "for t in twenty_train.target[:10]:\n",
    "...     print(twenty_train.target_names[t])"
   ]
  },
  {
   "cell_type": "code",
   "execution_count": 10,
   "metadata": {
    "collapsed": true
   },
   "outputs": [],
   "source": [
    "from sklearn.feature_extraction.text import CountVectorizer"
   ]
  },
  {
   "cell_type": "code",
   "execution_count": 11,
   "metadata": {
    "collapsed": true
   },
   "outputs": [],
   "source": [
    "count_vect = CountVectorizer()"
   ]
  },
  {
   "cell_type": "code",
   "execution_count": 12,
   "metadata": {
    "collapsed": true
   },
   "outputs": [],
   "source": [
    "X_train_counts = count_vect.fit_transform(twenty_train.data)"
   ]
  },
  {
   "cell_type": "code",
   "execution_count": 58,
   "metadata": {},
   "outputs": [
    {
     "data": {
      "text/plain": [
       "(2257, 35788)"
      ]
     },
     "execution_count": 58,
     "metadata": {},
     "output_type": "execute_result"
    }
   ],
   "source": [
    "X_train_counts.shape"
   ]
  },
  {
   "cell_type": "code",
   "execution_count": 14,
   "metadata": {},
   "outputs": [
    {
     "data": {
      "text/plain": [
       "4690"
      ]
     },
     "execution_count": 14,
     "metadata": {},
     "output_type": "execute_result"
    }
   ],
   "source": [
    "count_vect.vocabulary_.get(u'algorithm')"
   ]
  },
  {
   "cell_type": "code",
   "execution_count": 15,
   "metadata": {
    "collapsed": true
   },
   "outputs": [],
   "source": [
    "from sklearn.feature_extraction.text import TfidfTransformer"
   ]
  },
  {
   "cell_type": "code",
   "execution_count": 16,
   "metadata": {
    "collapsed": true
   },
   "outputs": [],
   "source": [
    "#We firstly use the fit(..) method to fit our estimator to the data \n",
    "#Learn the idf vector (global term weights)\n",
    "\n",
    "#idf = the inverse of the value how often this term appears on the document\n",
    "tf_transformer = TfidfTransformer(use_idf=False).fit(X_train_counts)"
   ]
  },
  {
   "cell_type": "code",
   "execution_count": 17,
   "metadata": {
    "collapsed": true
   },
   "outputs": [],
   "source": [
    "#Secondly the transform(..) method to transform our count-matrix to a tf-idf representation\n",
    "\n",
    "#This generates the tf-idf matrix\n",
    "#Can I retrieve the array of words? \n",
    "\n",
    "X_train_tf = tf_transformer.transform(X_train_counts)"
   ]
  },
  {
   "cell_type": "code",
   "execution_count": 61,
   "metadata": {},
   "outputs": [
    {
     "name": "stdout",
     "output_type": "stream",
     "text": [
      "<class 'scipy.sparse.csr.csr_matrix'>\n",
      "  (0, 230)\t0.0753778361444\n",
      "  (0, 12541)\t0.0753778361444\n",
      "  (0, 3166)\t0.0753778361444\n",
      "  (0, 14085)\t0.0753778361444\n",
      "  (0, 20459)\t0.0753778361444\n",
      "  (0, 35416)\t0.0753778361444\n",
      "  (0, 3062)\t0.0753778361444\n",
      "  (0, 2326)\t0.150755672289\n",
      "  (0, 177)\t0.150755672289\n",
      "  (0, 31915)\t0.0753778361444\n",
      "  (0, 33572)\t0.0753778361444\n",
      "  (0, 9338)\t0.0753778361444\n",
      "  (0, 26175)\t0.0753778361444\n",
      "  (0, 4378)\t0.0753778361444\n",
      "  (0, 17556)\t0.0753778361444\n",
      "  (0, 32135)\t0.0753778361444\n",
      "  (0, 15837)\t0.0753778361444\n",
      "  (0, 9932)\t0.0753778361444\n",
      "  (0, 32270)\t0.0753778361444\n",
      "  (0, 18474)\t0.0753778361444\n",
      "  (0, 27836)\t0.0753778361444\n",
      "  (0, 5195)\t0.0753778361444\n",
      "  (0, 12833)\t0.150755672289\n",
      "  (0, 25337)\t0.0753778361444\n",
      "  (0, 25361)\t0.0753778361444\n",
      "  :\t:\n",
      "  (2256, 6430)\t0.0721687836487\n",
      "  (2256, 24052)\t0.0721687836487\n",
      "  (2256, 22270)\t0.0721687836487\n",
      "  (2256, 35638)\t0.144337567297\n",
      "  (2256, 32233)\t0.0721687836487\n",
      "  (2256, 35157)\t0.0721687836487\n",
      "  (2256, 4938)\t0.0721687836487\n",
      "  (2256, 34923)\t0.0721687836487\n",
      "  (2256, 5698)\t0.0721687836487\n",
      "  (2256, 27031)\t0.144337567297\n",
      "  (2256, 14601)\t0.0721687836487\n",
      "  (2256, 21322)\t0.0721687836487\n",
      "  (2256, 7766)\t0.0721687836487\n",
      "  (2256, 12626)\t0.144337567297\n",
      "  (2256, 9338)\t0.0721687836487\n",
      "  (2256, 17556)\t0.0721687836487\n",
      "  (2256, 32270)\t0.0721687836487\n",
      "  (2256, 18474)\t0.144337567297\n",
      "  (2256, 23610)\t0.144337567297\n",
      "  (2256, 587)\t0.0721687836487\n",
      "  (2256, 20253)\t0.0721687836487\n",
      "  (2256, 32142)\t0.433012701892\n",
      "  (2256, 23915)\t0.0721687836487\n",
      "  (2256, 31077)\t0.0721687836487\n",
      "  (2256, 14887)\t0.0721687836487\n"
     ]
    }
   ],
   "source": [
    "#For each row, find the list of words in a descending order of values  \n",
    "#To do so, I need to retrieve the each row's value\n",
    "#To do so, I need to be able to retrive the word at [x,y]\n",
    "\n",
    "print(type(X_train_tf))\n",
    "# X_train_tf.nnz\n",
    "# X_train_tf.asformat(csr)\n",
    "# X_train_tf.getrow(0)\n",
    "X_train_tf.asfptype().toarray()\n",
    "print(X_train_tf)"
   ]
  },
  {
   "cell_type": "code",
   "execution_count": 36,
   "metadata": {
    "collapsed": true
   },
   "outputs": [],
   "source": [
    "#Note that the above process can be a single process\n",
    "# X_train_tf_2 = TfidfTransformer(use_idf=False).fit_transform(X_train_counts)\n",
    "# X_train_tfidf = X_train_tf"
   ]
  },
  {
   "cell_type": "code",
   "execution_count": 37,
   "metadata": {
    "collapsed": true
   },
   "outputs": [],
   "source": [
    "#Check to see if fit_transform = fit + transform\n",
    "#print(X_train_tf)\n",
    "#print(X_train_tf_2)"
   ]
  },
  {
   "cell_type": "markdown",
   "metadata": {},
   "source": [
    "# Training a classifier"
   ]
  },
  {
   "cell_type": "code",
   "execution_count": 49,
   "metadata": {
    "collapsed": true
   },
   "outputs": [],
   "source": [
    "#As you can see, the example trains the model with the target simultaneously\n",
    "from sklearn.naive_bayes import MultinomialNB\n",
    "clf = MultinomialNB().fit(X_train_tfidf, twenty_train.target)"
   ]
  },
  {
   "cell_type": "code",
   "execution_count": null,
   "metadata": {
    "collapsed": true
   },
   "outputs": [],
   "source": []
  }
 ],
 "metadata": {
  "kernelspec": {
   "display_name": "Python 3",
   "language": "python",
   "name": "python3"
  },
  "language_info": {
   "codemirror_mode": {
    "name": "ipython",
    "version": 3
   },
   "file_extension": ".py",
   "mimetype": "text/x-python",
   "name": "python",
   "nbconvert_exporter": "python",
   "pygments_lexer": "ipython3",
   "version": "3.6.1"
  }
 },
 "nbformat": 4,
 "nbformat_minor": 2
}
